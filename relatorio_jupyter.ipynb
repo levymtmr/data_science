{
 "cells": [
  {
   "cell_type": "code",
   "execution_count": 13,
   "metadata": {},
   "outputs": [
    {
     "name": "stdout",
     "output_type": "stream",
     "text": [
      "None\n"
     ]
    }
   ],
   "source": [
    "import pandas as pd\n",
    "import requests, base64\n",
    "\n",
    "class MelhoresPorCategoria:\n",
    "\n",
    "    def __init__(self, path_csv):\n",
    "        self.dados = pd.read_csv(path_csv)\n",
    "\n",
    "    def selecionarPorGenero(self, genero):\n",
    "        self.genero = [genero]\n",
    "        self.selecaoDeGeneroNews = self.dados['prime_genre'].isin(self.genero)\n",
    "        self.itensFiltradosGenero = self.dados[self.selecaoDeGeneroNews]\n",
    "        return self.itensFiltradosGenero\n",
    "\n",
    "    def retorna10MelhoresPorAvaliacoes(self, genero):\n",
    "        grupo_track_name = self.selecionarPorGenero(genero).groupby('track_name')\n",
    "        dados_filtrados = grupo_track_name[[\"rating_count_tot\"]].max()\n",
    "        top10 = dados_filtrados.rating_count_tot.sort_values(ascending=False).head(10)\n",
    "        \n",
    "    def authorization(self):\n",
    "        self.token = \"897644245607223297-TSowyDAPxcZ1FcSW3hBjyAXLOJkwT9p\"\n",
    "        self.baseurl = 'https://api.twitter.com/'\n",
    "        self.auth_url = '{}oauth2/token'.format(self.baseurl)\n",
    "        self.client_key = \"Q7Ui7rCiBoCquM8QotxcgwJw5\"\n",
    "        self.client_secret = \"i43VmmpPujgyZzPaHgylLkUAN5nhR1XZoS6TEOPPCMwph2aQ58\"\n",
    "        self.key_secret = '{}:{}'.format(self.client_key, self.client_secret).encode('ascii')\n",
    "        self.b64_encoded_key = base64.b64encode(self.key_secret)\n",
    "        self.b64_encoded_key = self.b64_encoded_key.decode('ascii')\n",
    "        self.auth_headers = {\n",
    "            'Authorization': 'Basic {}'.format(self.b64_encoded_key),\n",
    "            'Content-Type': 'application/x-www-form-urlencoded;charset=UTF-8'\n",
    "        }\n",
    "        self.auth_data = {\n",
    "            'grant_type': 'client_credentials'\n",
    "        }\n",
    "        self.auth_resp = requests.post(self.auth_url, headers=self.auth_headers, data=self.auth_data)\n",
    "        self.access_token = self.auth_resp.json()['access_token']\n",
    "\n",
    "    def pesquisa(self):\n",
    "        self.search_headers = {\n",
    "            'Authorization': 'Bearer {}'.format(self.access_token)\n",
    "        }\n",
    "        self.search_params = {\n",
    "            'q': 'apps',\n",
    "            'result_type': 'popular',\n",
    "            'count': 10\n",
    "        }\n",
    "        self.search_url = '{}1.1/search/tweets.json'.format(self.baseurl)\n",
    "        self.search_resp = requests.get(self.search_url, headers=self.search_headers, params=self.search_params)\n",
    "        return self.search_resp.json()['statuses']\n",
    "    \n",
    "    def retornaMusicMaisMencionado(self):\n",
    "        pass\n",
    "    \n",
    "    def retornaBookMaisMencionado(self):\n",
    "        pass\n",
    "\n",
    "\n",
    "if __name__ == \"__main__\":\n",
    "    teste = MelhoresPorCategoria(\"AppleStore.csv\")\n",
    "#     print(teste.selecionarPorGenero(\"Music\"))\n",
    "    print(teste.retorna10MelhoresPorAvaliacoes(\"News\"))\n",
    "#     teste.retornaSoMusic()\n",
    "#     print(teste.authorization())\n",
    "#     print(teste.pesquisa())\n",
    "#     for i in teste.pesquisa():\n",
    "#         print(i['text'])\n",
    "    \n"
   ]
  },
  {
   "cell_type": "code",
   "execution_count": null,
   "metadata": {},
   "outputs": [],
   "source": []
  }
 ],
 "metadata": {
  "kernelspec": {
   "display_name": "Python 3",
   "language": "python",
   "name": "python3"
  },
  "language_info": {
   "codemirror_mode": {
    "name": "ipython",
    "version": 3
   },
   "file_extension": ".py",
   "mimetype": "text/x-python",
   "name": "python",
   "nbconvert_exporter": "python",
   "pygments_lexer": "ipython3",
   "version": "3.7.1"
  }
 },
 "nbformat": 4,
 "nbformat_minor": 2
}
