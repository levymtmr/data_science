{
 "cells": [
  {
   "cell_type": "code",
   "execution_count": 1,
   "metadata": {},
   "outputs": [],
   "source": [
    "import pandas as pd"
   ]
  },
  {
   "cell_type": "code",
   "execution_count": 3,
   "metadata": {},
   "outputs": [
    {
     "name": "stdout",
     "output_type": "stream",
     "text": [
      "track_name\n",
      "Twitter                                               354058\n",
      "Fox News                                              132703\n",
      "CNN: Breaking US & World News, Live Video             112886\n",
      "Reddit Official App: All That's Trending and Viral     67560\n",
      "USA TODAY                                              61724\n",
      "ABC News - US & World News + Live Video                48407\n",
      "NBC News                                               32881\n",
      "HuffPost - News, Politics & Entertainment              29107\n",
      "5-0 Radio Pro Police Scanner (Extra Feeds)             24553\n",
      "The Washington Post Classic                            18572\n",
      "Name: rating_count_tot, dtype: int64\n"
     ]
    }
   ],
   "source": [
    "class MelhoresPorCategoria:\n",
    "    \n",
    "    def __init__(self, category):\n",
    "        self.dados = pd.read_csv(\"AppleStore.csv\")\n",
    "        self.category = category\n",
    "        \n",
    "    def selecionarPorGenero(self):\n",
    "        generos = self.dados[\"prime_genre\"].drop_duplicates()\n",
    "        self.genero = [self.category]\n",
    "        self.selecaoDeGeneroNews = self.dados['prime_genre'].isin(self.genero)\n",
    "        self.itensFiltradosGeneroNews = self.dados[self.selecaoDeGeneroNews]\n",
    "        return self.itensFiltradosGeneroNews\n",
    "\n",
    "    def retorna10MelhoresPorAvaliacoes(self):\n",
    "        grupo_track_name = self.selecionarPorGenero().groupby('track_name')\n",
    "        dados_filtrados = grupo_track_name[[\"rating_count_tot\"]].max()\n",
    "        print(dados_filtrados.rating_count_tot.sort_values(ascending=False).head(10))\n",
    "\n",
    "\n",
    "\n",
    "if __name__ == \"__main__\":\n",
    "    teste = MelhoresPorCategoria(\"News\")\n",
    "    teste.retorna10MelhoresPorAvaliacoes()"
   ]
  },
  {
   "cell_type": "code",
   "execution_count": null,
   "metadata": {},
   "outputs": [],
   "source": []
  }
 ],
 "metadata": {
  "kernelspec": {
   "display_name": "Python 3",
   "language": "python",
   "name": "python3"
  },
  "language_info": {
   "codemirror_mode": {
    "name": "ipython",
    "version": 3
   },
   "file_extension": ".py",
   "mimetype": "text/x-python",
   "name": "python",
   "nbconvert_exporter": "python",
   "pygments_lexer": "ipython3",
   "version": "3.6.4"
  }
 },
 "nbformat": 4,
 "nbformat_minor": 2
}
